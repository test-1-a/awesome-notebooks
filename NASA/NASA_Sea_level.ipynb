{
 "cells": [
  {
   "cell_type": "markdown",
   "id": "naas-logo",
   "metadata": {
    "papermill": {},
    "tags": [
     "naas"
    ]
   },
   "source": [
    "<img width=\"10%\" alt=\"Naas\" src=\"https://landen.imgix.net/jtci2pxwjczr/assets/5ice39g4.png?w=160\"/>"
   ]
  },
  {
   "cell_type": "markdown",
   "id": "copyrighted-central",
   "metadata": {
    "papermill": {},
    "tags": []
   },
   "source": [
    "# NASA - Sea level\n",
    "<a href=\"https://app.naas.ai/user-redirect/naas/downloader?url=https://raw.githubusercontent.com/jupyter-naas/awesome-notebooks/master/NASA/NASA_Sea_level.ipynb\" target=\"_parent\"><img src=\"https://naasai-public.s3.eu-west-3.amazonaws.com/open_in_naas.svg\"/></a><br><br><a href=\"https://github.com/jupyter-naas/awesome-notebooks/issues/new?assignees=&labels=&template=template-request.md&title=Tool+-+Action+of+the+notebook+\">Template request</a> | <a href=\"https://github.com/jupyter-naas/awesome-notebooks/issues/new?assignees=&labels=bug&template=bug_report.md&title=NASA+-+Sea+level:+Error+short+description\">Bug report</a>"
   ]
  },
  {
   "cell_type": "markdown",
   "id": "f4f5d309-ad8c-4b79-a9de-70d00a69d87f",
   "metadata": {
    "papermill": {},
    "tags": []
   },
   "source": [
    "**Tags:** #nasa #naas #opendata #analytics #plotly"
   ]
  },
  {
   "cell_type": "markdown",
   "id": "naas-author",
   "metadata": {
    "papermill": {},
    "tags": [
     "naas"
    ]
   },
   "source": [
    "**Author:** [Colyn TIDMAN](https://www.linkedin.com/in/colyntidman/), [Dylan PICHON](https://www.linkedin.com/in/dylan-pichon/)"
   ]
  },
  {
   "cell_type": "markdown",
   "id": "realistic-updating",
   "metadata": {
    "papermill": {},
    "tags": []
   },
   "source": [
    "Sea level rise is caused primarily by two factors related to global warming: the added water from melting ice sheets and glaciers and the expansion of seawater as it warms. The first graph tracks the change in sea level since 1993 as observed by satellites.\n",
    "\n",
    "The second graph, derived from coastal tide gauge and satellite data, shows how much sea level changed from about 1900 to 2018. Items with pluses (+) are factors that cause global mean sea level to increase, while minuses (-) are variables that cause sea levels to decrease. These items are displayed at the time they were affecting sea level.\n",
    "\n",
    "The data shown are the latest available, with a four- to five-month lag needed for processing.\n",
    "\n",
    "* You now need to create an Earthdata account to access NASA's sea level data. Register for free by clicking on 'Get data : http'. Once logged in you will access the data.\n",
    "\n",
    "Website : https://climate.nasa.gov/vital-signs/sea-level/"
   ]
  },
  {
   "cell_type": "markdown",
   "id": "oriental-bible",
   "metadata": {
    "execution": {
     "iopub.execute_input": "2021-05-17T12:26:03.066131Z",
     "iopub.status.busy": "2021-05-17T12:26:03.065891Z",
     "iopub.status.idle": "2021-05-17T12:26:03.076608Z",
     "shell.execute_reply": "2021-05-17T12:26:03.075716Z",
     "shell.execute_reply.started": "2021-05-17T12:26:03.066108Z"
    },
    "papermill": {},
    "tags": []
   },
   "source": [
    "Data source: Satellite sea level observations.\n",
    "Credit: NASA's Goddard Space Flight Center"
   ]
  },
  {
   "cell_type": "markdown",
   "id": "thermal-domestic",
   "metadata": {
    "execution": {
     "iopub.execute_input": "2021-05-17T07:53:04.796112Z",
     "iopub.status.busy": "2021-05-17T07:53:04.795875Z",
     "iopub.status.idle": "2021-05-17T07:53:04.799082Z",
     "shell.execute_reply": "2021-05-17T07:53:04.798423Z",
     "shell.execute_reply.started": "2021-05-17T07:53:04.796089Z"
    },
    "papermill": {},
    "tags": []
   },
   "source": [
    "## Input"
   ]
  },
  {
   "cell_type": "markdown",
   "id": "9c970caa-c9d1-4ae7-9377-12dadc0dc377",
   "metadata": {
    "papermill": {},
    "tags": []
   },
   "source": [
    "### Import libraries"
   ]
  },
  {
   "cell_type": "code",
   "execution_count": 1,
   "id": "comfortable-binding",
   "metadata": {
    "execution": {
     "iopub.execute_input": "2022-03-04T10:57:39.372018Z",
     "iopub.status.busy": "2022-03-04T10:57:39.371535Z",
     "iopub.status.idle": "2022-03-04T10:57:39.972526Z",
     "shell.execute_reply": "2022-03-04T10:57:39.966606Z",
     "shell.execute_reply.started": "2022-03-04T10:57:39.371891Z"
    },
    "papermill": {},
    "tags": []
   },
   "outputs": [],
   "source": [
    "import pandas\n",
    "import plotly.graph_objects as go"
   ]
  },
  {
   "cell_type": "markdown",
   "id": "365fc93e-de53-4a3c-9b50-30a02873b832",
   "metadata": {
    "papermill": {},
    "tags": []
   },
   "source": [
    "### Path of the source"
   ]
  },
  {
   "cell_type": "markdown",
   "id": "practical-trustee",
   "metadata": {
    "papermill": {},
    "tags": []
   },
   "source": [
    "Data source : nasa_sea_levels.txt downloaded earlier"
   ]
  },
  {
   "cell_type": "code",
   "execution_count": 2,
   "id": "6b9391d7-e0be-4a1d-8f3b-9626276d43f2",
   "metadata": {
    "execution": {
     "iopub.execute_input": "2022-03-04T10:57:39.975228Z",
     "iopub.status.busy": "2022-03-04T10:57:39.975046Z",
     "iopub.status.idle": "2022-03-04T10:57:39.979111Z",
     "shell.execute_reply": "2022-03-04T10:57:39.978611Z",
     "shell.execute_reply.started": "2022-03-04T10:57:39.975207Z"
    },
    "papermill": {},
    "tags": []
   },
   "outputs": [],
   "source": [
    "uri_nasa_sea_level = \"nasa-sea-level-data.txt\""
   ]
  },
  {
   "cell_type": "markdown",
   "id": "parliamentary-heaven",
   "metadata": {
    "papermill": {},
    "tags": []
   },
   "source": [
    "## Model"
   ]
  },
  {
   "cell_type": "markdown",
   "id": "299b7828-26d0-4ea6-b3f6-ef15e6c948c2",
   "metadata": {
    "papermill": {},
    "tags": []
   },
   "source": [
    "### Read the csv and create the table"
   ]
  },
  {
   "cell_type": "code",
   "execution_count": 3,
   "id": "optimum-excerpt",
   "metadata": {
    "execution": {
     "iopub.execute_input": "2022-03-04T10:57:39.981157Z",
     "iopub.status.busy": "2022-03-04T10:57:39.980997Z",
     "iopub.status.idle": "2022-03-04T10:57:40.117141Z",
     "shell.execute_reply": "2022-03-04T10:57:40.115998Z",
     "shell.execute_reply.started": "2022-03-04T10:57:39.981139Z"
    },
    "papermill": {},
    "tags": []
   },
   "outputs": [],
   "source": [
    "df = pandas.read_csv(uri_nasa_sea_level, engine=\"python\", comment='HDR',delim_whitespace=True, names=[\"A\",\"B\",\"Year + Fraction\",\"D\",\"E\",\"F\",\"G\", \"H\",\"I\",\"J\",\"K\",\"Smoothed GMSL (mm)\",])\n",
    "\n",
    "df.head(10)"
   ]
  },
  {
   "cell_type": "markdown",
   "id": "designed-enclosure",
   "metadata": {
    "execution": {
     "iopub.execute_input": "2021-05-17T07:58:53.181873Z",
     "iopub.status.busy": "2021-05-17T07:58:53.181577Z",
     "iopub.status.idle": "2021-05-17T07:58:53.191194Z",
     "shell.execute_reply": "2021-05-17T07:58:53.190323Z",
     "shell.execute_reply.started": "2021-05-17T07:58:53.181843Z"
    },
    "papermill": {},
    "tags": []
   },
   "source": [
    "Now lets only get the information we want and convert year + fraction to date"
   ]
  },
  {
   "cell_type": "code",
   "execution_count": 4,
   "id": "modified-emerald",
   "metadata": {
    "execution": {
     "iopub.execute_input": "2022-03-04T10:57:40.118222Z",
     "iopub.status.busy": "2022-03-04T10:57:40.118015Z",
     "iopub.status.idle": "2022-03-04T10:57:40.407390Z",
     "shell.execute_reply": "2022-03-04T10:57:40.406702Z",
     "shell.execute_reply.started": "2022-03-04T10:57:40.118196Z"
    },
    "papermill": {},
    "tags": []
   },
   "outputs": [],
   "source": [
    "new_df = pandas.DataFrame(df, columns=['Year + Fraction', 'Smoothed GMSL (mm)'])\n",
    "\n",
    "dates = []\n",
    "values = []\n",
    "\n",
    "ref = 0\n",
    "\n",
    "for i, row in new_df.iterrows():\n",
    "    #date formating\n",
    "    date_split = str(row['Year + Fraction']).split('.')\n",
    "    year = date_split[0]\n",
    "    fraction = '0.' + date_split[1]\n",
    "    float_fraction = float(fraction)\n",
    "    date = year + \"-1-1\"\n",
    "    date_delta = 365 * float_fraction\n",
    "    value = pandas.to_datetime(date) + pandas.to_timedelta(date_delta, unit='D')\n",
    "    dates.append(value)\n",
    "    \n",
    "    #value formating\n",
    "    #to stay inline with the graph visible on nasa's website, we need to have 0 as our first value\n",
    "    if i == 0:\n",
    "       ref = row['Smoothed GMSL (mm)'] \n",
    "    \n",
    "    val = row['Smoothed GMSL (mm)'] - ref \n",
    "    values.append(val)\n",
    "    \n",
    "    \n",
    "    \n",
    "\n",
    "new_df['Date'] = dates\n",
    "new_df['Value'] = values\n",
    "    \n",
    "new_df.head()"
   ]
  },
  {
   "cell_type": "markdown",
   "id": "complex-virgin",
   "metadata": {
    "papermill": {},
    "tags": []
   },
   "source": [
    "## Output"
   ]
  },
  {
   "cell_type": "markdown",
   "id": "printable-diagram",
   "metadata": {
    "papermill": {},
    "tags": []
   },
   "source": [
    "### Land-Ocean Temperature Index - Visualization"
   ]
  },
  {
   "cell_type": "code",
   "execution_count": 5,
   "id": "proved-avenue",
   "metadata": {
    "execution": {
     "iopub.execute_input": "2022-03-04T10:57:40.409544Z",
     "iopub.status.busy": "2022-03-04T10:57:40.409231Z",
     "iopub.status.idle": "2022-03-04T10:57:40.748227Z",
     "shell.execute_reply": "2022-03-04T10:57:40.747685Z",
     "shell.execute_reply.started": "2022-03-04T10:57:40.409514Z"
    },
    "papermill": {},
    "tags": []
   },
   "outputs": [],
   "source": [
    "fig = go.Figure(layout_title=\"<b>Sea Level variation since 1993 (mm)</b>\")\n",
    "fig.add_trace(go.Scatter(\n",
    "    x = new_df[\"Date\"],\n",
    "    y = new_df[\"Value\"],\n",
    "    name=\"Delta\",\n",
    "))\n",
    "\n",
    "fig.update_layout(\n",
    "    autosize=False,\n",
    "    width=1300,\n",
    "    height=700,\n",
    "    plot_bgcolor='rgb(250,250,250)',\n",
    ")\n",
    "\n",
    "\n",
    "fig.add_annotation(y=6, x='2016-1-1',\n",
    "            text=\"Data source: Satellite sea level observations.<br> Credit: NASA's Goddard Space Flight Center\",\n",
    "            showarrow=False,\n",
    "            )\n",
    "\n",
    "fig.update_yaxes(title_text=\"Sea Height Variation (mm)\")\n",
    "fig.update_xaxes(title_text=\"Year\", tickangle=60)\n",
    "fig.add_hline(y=0.0)\n",
    "fig.update_layout(title_x=0.5)\n",
    "\n",
    "fig.show()"
   ]
  }
 ],
 "metadata": {
  "kernelspec": {
   "display_name": "Python 3",
   "language": "python",
   "name": "python3"
  },
  "language_info": {
   "codemirror_mode": {
    "name": "ipython",
    "version": 3
   },
   "file_extension": ".py",
   "mimetype": "text/x-python",
   "name": "python",
   "nbconvert_exporter": "python",
   "pygments_lexer": "ipython3",
   "version": "3.8.8"
  },
  "naas": {
   "notebook_id": "1a4e3ff4-9903-4d18-b952-184f16e5d980",
   "notebook_path": "NASA/NASA_Sea_level.ipynb"
  },
  "papermill": {
   "default_parameters": {},
   "environment_variables": {},
   "parameters": {},
   "version": "2.3.3"
  }
 },
 "nbformat": 4,
 "nbformat_minor": 5
}
